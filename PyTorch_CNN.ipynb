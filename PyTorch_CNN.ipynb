{
 "cells": [
  {
   "cell_type": "markdown",
   "metadata": {},
   "source": [
    "# Convolutional Neural Network (CNNs) in PyTorch"
   ]
  },
  {
   "cell_type": "code",
   "execution_count": 20,
   "metadata": {
    "colab": {},
    "colab_type": "code",
    "id": "-afwWw-Q85vD"
   },
   "outputs": [],
   "source": [
    "from collections import namedtuple\n",
    "\n",
    "import matplotlib.pyplot as plt\n",
    "import numpy as np\n",
    "import PIL\n",
    "import torch\n",
    "import torch.nn as nn\n",
    "import torch.optim as optim\n",
    "import torchvision.datasets as dset\n",
    "from torch.utils.data.sampler import SubsetRandomSampler\n",
    "from PIL import Image\n",
    "\n",
    "from torchvision import transforms"
   ]
  },
  {
   "cell_type": "code",
   "execution_count": 21,
   "metadata": {},
   "outputs": [],
   "source": [
    "device = torch.device(\"cuda:0\")"
   ]
  },
  {
   "cell_type": "markdown",
   "metadata": {},
   "source": [
    "## Data loading"
   ]
  },
  {
   "cell_type": "code",
   "execution_count": 22,
   "metadata": {
    "colab": {},
    "colab_type": "code",
    "id": "YAvkoRx-9FsP"
   },
   "outputs": [
    {
     "name": "stdout",
     "output_type": "stream",
     "text": [
      "Dataset SVHN\n",
      "    Number of datapoints: 26032\n",
      "    Root location: ./data\n",
      "    Split: test\n",
      "    StandardTransform\n",
      "Transform: Compose(\n",
      "               ToTensor()\n",
      "               Normalize(mean=[0.43, 0.44, 0.47], std=[0.2, 0.2, 0.2])\n",
      "           )\n"
     ]
    }
   ],
   "source": [
    "# First, lets load the dataset\n",
    "data_train = dset.SVHN('./data', \n",
    "                       transform=transforms.Compose([\n",
    "                           transforms.ToTensor(),\n",
    "                           transforms.Normalize(mean=[0.43,0.44,0.47],\n",
    "                                               std=[0.20,0.20,0.20])                           \n",
    "                       ])\n",
    "                      )\n",
    "data_test = dset.SVHN('./data', split='test', transform=transforms.Compose([\n",
    "                           transforms.ToTensor(),\n",
    "                           transforms.Normalize(mean=[0.43,0.44,0.47],\n",
    "                                               std=[0.20,0.20,0.20])                           \n",
    "                       ]))\n",
    "print(data_test)"
   ]
  },
  {
   "cell_type": "markdown",
   "metadata": {},
   "source": [
    "## We divide the data into training and validation.\n"
   ]
  },
  {
   "cell_type": "code",
   "execution_count": 23,
   "metadata": {
    "colab": {},
    "colab_type": "code",
    "id": "YRnr8CPg7Hli"
   },
   "outputs": [],
   "source": [
    "batch_size = 64\n",
    "\n",
    "data_size = data_train.data.shape[0]\n",
    "validation_split = .2\n",
    "split = int(np.floor(validation_split * data_size))\n",
    "indices = list(range(data_size))\n",
    "np.random.shuffle(indices)\n",
    "\n",
    "train_indices, val_indices = indices[split:], indices[:split]\n",
    "\n",
    "train_sampler = SubsetRandomSampler(train_indices)\n",
    "val_sampler = SubsetRandomSampler(val_indices)\n",
    "\n",
    "train_loader = torch.utils.data.DataLoader(data_train, batch_size=batch_size, \n",
    "                                           sampler=train_sampler)\n",
    "val_loader = torch.utils.data.DataLoader(data_train, batch_size=batch_size,\n",
    "                                         sampler=val_sampler)"
   ]
  },
  {
   "cell_type": "code",
   "execution_count": 24,
   "metadata": {
    "colab": {},
    "colab_type": "code",
    "id": "LyYvt-T67PBG"
   },
   "outputs": [],
   "source": [
    "# We'll use a special helper module to shape it into a flat tensor\n",
    "class Flattener(nn.Module):\n",
    "    def forward(self, x):\n",
    "        batch_size, *_ = x.shape\n",
    "        return x.view(batch_size, -1)"
   ]
  },
  {
   "cell_type": "markdown",
   "metadata": {},
   "source": [
    "## Data augmentation"
   ]
  },
  {
   "cell_type": "code",
   "execution_count": 32,
   "metadata": {},
   "outputs": [],
   "source": [
    "tfs = transforms.Compose([\n",
    "    transforms.ColorJitter(hue=.50, saturation=.50),\n",
    "    \n",
    "    transforms.ToTensor(),\n",
    "    transforms.Normalize(mean=[0.43,0.44,0.47],\n",
    "                       std=[0.20,0.20,0.20])                           \n",
    "])\n",
    "\n",
    "# Create augmented train dataset\n",
    "data_aug_train = dset.SVHN('./data', \n",
    "                       transform=tfs\n",
    "                      )\n",
    "\n",
    "train_aug_loader = torch.utils.data.DataLoader(data_aug_train, batch_size=batch_size, sampler=train_sampler)"
   ]
  },
  {
   "cell_type": "markdown",
   "metadata": {},
   "source": [
    "## Augmented image visualization"
   ]
  },
  {
   "cell_type": "code",
   "execution_count": 33,
   "metadata": {},
   "outputs": [
    {
     "data": {
      "image/png": "[encoded data removed]",
      "text/plain": [
       "<Figure size 2160x216 with 10 Axes>"
      ]
     },
     "metadata": {
      "needs_background": "light"
     },
     "output_type": "display_data"
    }
   ],
   "source": [
    "tfs = transforms.Compose([\n",
    "    transforms.ColorJitter(hue=.50, saturation=.50),\n",
    "])\n",
    "\n",
    "data_aug_vis = dset.SVHN('./data', \n",
    "                       transform=tfs\n",
    "                      )\n",
    "\n",
    "plt.figure(figsize=(30, 3))\n",
    "\n",
    "for i, (x, y) in enumerate(data_aug_vis):\n",
    "    if i == 10:\n",
    "        break\n",
    "    plt.subplot(1, 10, i+1)\n",
    "    plt.grid(False)\n",
    "    plt.imshow(x)\n",
    "    plt.axis('off')"
   ]
  },
  {
   "cell_type": "markdown",
   "metadata": {},
   "source": [
    "## Training function and accuracy calculation function"
   ]
  },
  {
   "cell_type": "code",
   "execution_count": 26,
   "metadata": {},
   "outputs": [],
   "source": [
    "def train_model(model, train_loader, val_loader, loss, optimizer, num_epochs):    \n",
    "    loss_history = []\n",
    "    train_history = []\n",
    "    val_history = []\n",
    "    for epoch in range(num_epochs):\n",
    "        model.train() # Enter train mode\n",
    "        \n",
    "        loss_accum = 0\n",
    "        correct_samples = 0\n",
    "        total_samples = 0\n",
    "        for i_step, (x, y) in enumerate(train_loader):\n",
    "          \n",
    "            x_gpu = x.to(device)\n",
    "            y_gpu = y.to(device)\n",
    "            prediction = model(x_gpu)    \n",
    "            loss_value = loss(prediction, y_gpu)\n",
    "            optimizer.zero_grad()\n",
    "            loss_value.backward()\n",
    "            optimizer.step()\n",
    "            \n",
    "            _, indices = torch.max(prediction, 1)\n",
    "            correct_samples += torch.sum(indices == y_gpu)\n",
    "            total_samples += y.shape[0]\n",
    "            \n",
    "            loss_accum += loss_value\n",
    "\n",
    "        ave_loss = loss_accum / i_step\n",
    "        train_accuracy = float(correct_samples) / total_samples\n",
    "        val_accuracy = compute_accuracy(model, val_loader)\n",
    "        \n",
    "        loss_history.append(float(ave_loss))\n",
    "        train_history.append(train_accuracy)\n",
    "        val_history.append(val_accuracy)\n",
    "        \n",
    "        print(\"Average loss: %f, Train accuracy: %f, Val accuracy: %f\" % (ave_loss, train_accuracy, val_accuracy))\n",
    "        \n",
    "    return loss_history, train_history, val_history\n",
    "        \n",
    "def compute_accuracy(model, loader):\n",
    "    \"\"\"\n",
    "    Computes accuracy on the dataset wrapped in a loader\n",
    "    \n",
    "    Returns: accuracy as a float value between 0 and 1\n",
    "    \"\"\"\n",
    "    model.eval() # Evaluation mode\n",
    "    correct_samples = 0\n",
    "    total_samples = 0\n",
    "    for i_step, (x, y) in enumerate(loader):\n",
    "        x_gpu = x.to(device)\n",
    "        y_gpu = y.to(device)\n",
    "        \n",
    "        prediction = model(x_gpu)\n",
    "        \n",
    "        optimizer.zero_grad()\n",
    "        optimizer.step()\n",
    "        \n",
    "        _, indices = torch.max(prediction, 1)\n",
    "        correct_samples += torch.sum(indices == y_gpu)\n",
    "        total_samples += y_gpu.shape[0]\n",
    "        \n",
    "    v_accuracy = float(correct_samples) / total_samples\n",
    "        \n",
    "    return v_accuracy"
   ]
  },
  {
   "cell_type": "markdown",
   "metadata": {},
   "source": [
    "## Model creation"
   ]
  },
  {
   "cell_type": "code",
   "execution_count": 27,
   "metadata": {
    "colab": {},
    "colab_type": "code",
    "id": "w9SFVGZP7SQd"
   },
   "outputs": [
    {
     "name": "stdout",
     "output_type": "stream",
     "text": [
      "Average loss: 0.842263, Train accuracy: 0.733747, Val accuracy: 0.819808\n",
      "Average loss: 0.509077, Train accuracy: 0.844419, Val accuracy: 0.879530\n",
      "Average loss: 0.445779, Train accuracy: 0.866089, Val accuracy: 0.858235\n",
      "Average loss: 0.406530, Train accuracy: 0.876207, Val accuracy: 0.839874\n",
      "Average loss: 0.385564, Train accuracy: 0.883783, Val accuracy: 0.884035\n",
      "Average loss: 0.364960, Train accuracy: 0.890028, Val accuracy: 0.884513\n",
      "Average loss: 0.346458, Train accuracy: 0.896035, Val accuracy: 0.890315\n",
      "Average loss: 0.331606, Train accuracy: 0.899618, Val accuracy: 0.886492\n",
      "Average loss: 0.317733, Train accuracy: 0.904225, Val accuracy: 0.893386\n",
      "Average loss: 0.308151, Train accuracy: 0.907655, Val accuracy: 0.902805\n",
      "Average loss: 0.298321, Train accuracy: 0.909804, Val accuracy: 0.888813\n",
      "Average loss: 0.287889, Train accuracy: 0.912108, Val accuracy: 0.907788\n",
      "Average loss: 0.280994, Train accuracy: 0.915350, Val accuracy: 0.904853\n",
      "Average loss: 0.271950, Train accuracy: 0.916425, Val accuracy: 0.908129\n",
      "Average loss: 0.266367, Train accuracy: 0.918541, Val accuracy: 0.899870\n",
      "Average loss: 0.259241, Train accuracy: 0.920742, Val accuracy: 0.907105\n",
      "Average loss: 0.254316, Train accuracy: 0.922499, Val accuracy: 0.915296\n",
      "Average loss: 0.251114, Train accuracy: 0.922482, Val accuracy: 0.903351\n",
      "Average loss: 0.245957, Train accuracy: 0.924342, Val accuracy: 0.912293\n",
      "Average loss: 0.239935, Train accuracy: 0.926731, Val accuracy: 0.906628\n",
      "Average loss: 0.232733, Train accuracy: 0.928045, Val accuracy: 0.915432\n",
      "Average loss: 0.228292, Train accuracy: 0.929785, Val accuracy: 0.911132\n",
      "Average loss: 0.225718, Train accuracy: 0.929973, Val accuracy: 0.914409\n",
      "Average loss: 0.221936, Train accuracy: 0.933147, Val accuracy: 0.908334\n",
      "Average loss: 0.222104, Train accuracy: 0.932004, Val accuracy: 0.911610\n",
      "Average loss: 0.218531, Train accuracy: 0.932447, Val accuracy: 0.914340\n",
      "Average loss: 0.215268, Train accuracy: 0.933266, Val accuracy: 0.909221\n",
      "Average loss: 0.213341, Train accuracy: 0.934017, Val accuracy: 0.911064\n",
      "Average loss: 0.207869, Train accuracy: 0.935809, Val accuracy: 0.911883\n",
      "Average loss: 0.207019, Train accuracy: 0.935109, Val accuracy: 0.918572\n",
      "Average loss: 0.202762, Train accuracy: 0.937361, Val accuracy: 0.914136\n",
      "Average loss: 0.201549, Train accuracy: 0.936747, Val accuracy: 0.913590\n",
      "Average loss: 0.199312, Train accuracy: 0.937549, Val accuracy: 0.913112\n",
      "Average loss: 0.197440, Train accuracy: 0.937378, Val accuracy: 0.910655\n",
      "Average loss: 0.199098, Train accuracy: 0.937413, Val accuracy: 0.912497\n",
      "Average loss: 0.189702, Train accuracy: 0.939409, Val accuracy: 0.915228\n",
      "Average loss: 0.190982, Train accuracy: 0.940177, Val accuracy: 0.913794\n",
      "Average loss: 0.190256, Train accuracy: 0.939921, Val accuracy: 0.914682\n",
      "Average loss: 0.184714, Train accuracy: 0.942071, Val accuracy: 0.911405\n",
      "Average loss: 0.188918, Train accuracy: 0.940279, Val accuracy: 0.914067\n",
      "Average loss: 0.182929, Train accuracy: 0.942156, Val accuracy: 0.911337\n",
      "Average loss: 0.181457, Train accuracy: 0.942173, Val accuracy: 0.914067\n",
      "Average loss: 0.184901, Train accuracy: 0.941081, Val accuracy: 0.916115\n",
      "Average loss: 0.181732, Train accuracy: 0.942839, Val accuracy: 0.915978\n",
      "Average loss: 0.177422, Train accuracy: 0.943589, Val accuracy: 0.916251\n",
      "Average loss: 0.175958, Train accuracy: 0.943197, Val accuracy: 0.917344\n",
      "Average loss: 0.177250, Train accuracy: 0.943419, Val accuracy: 0.913521\n",
      "Average loss: 0.171363, Train accuracy: 0.946337, Val accuracy: 0.912224\n",
      "Average loss: 0.170241, Train accuracy: 0.946285, Val accuracy: 0.911132\n",
      "Average loss: 0.172673, Train accuracy: 0.945262, Val accuracy: 0.915637\n"
     ]
    }
   ],
   "source": [
    "best_model = nn.Sequential(\n",
    "    nn.Conv2d(3, 16, 5),\n",
    "    nn.BatchNorm2d(16),\n",
    "    nn.ReLU(inplace=True),\n",
    "    nn.MaxPool2d(2, stride=2),\n",
    "    nn.Conv2d(16, 32, 5),\n",
    "    nn.BatchNorm2d(32),\n",
    "    nn.ReLU(inplace=True),\n",
    "    nn.MaxPool2d(2, stride=2),   \n",
    "    nn.Conv2d(32, 64, 5),\n",
    "    nn.BatchNorm2d(64),\n",
    "    nn.ReLU(inplace=True),\n",
    "    nn.Dropout2d(p=0.2),\n",
    "    Flattener(),\n",
    "    nn.Linear(64, 64),\n",
    "    nn.ReLU(inplace=True),\n",
    "    nn.Dropout(p=0.2),\n",
    "    nn.Linear(64, 10)\n",
    "          )\n",
    "\n",
    "for module in best_model.parameters():\n",
    "    if isinstance(module, (nn.Conv2d, nn.Linear)):\n",
    "        nn.init.xavier_uniform_(module.weight, gain=nn.init.calculate_gain('relu'))\n",
    "\n",
    "    \n",
    "best_model.type(torch.cuda.FloatTensor)\n",
    "best_model.to(device)\n",
    "\n",
    "loss = nn.CrossEntropyLoss().type(torch.cuda.FloatTensor)\n",
    "optimizer = optim.Adam(best_model.parameters(), lr=0.001, weight_decay=1e-05)\n",
    "loss_history, train_history, val_history = train_model(best_model, train_aug_loader, val_loader, loss, optimizer, 50)"
   ]
  },
  {
   "cell_type": "markdown",
   "metadata": {},
   "source": [
    "## Final test accuracy"
   ]
  },
  {
   "cell_type": "code",
   "execution_count": 28,
   "metadata": {},
   "outputs": [
    {
     "name": "stdout",
     "output_type": "stream",
     "text": [
      "Final test accuracy -  0.9035802089735709\n"
     ]
    }
   ],
   "source": [
    "test_loader = torch.utils.data.DataLoader(data_test, batch_size=batch_size)\n",
    "final_test_accuracy = compute_accuracy(best_model, test_loader)\n",
    "print(\"Final test accuracy - \", final_test_accuracy)"
   ]
  }
 ],
 "metadata": {
  "accelerator": "GPU",
  "colab": {
   "collapsed_sections": [],
   "name": "PyTorch_CNN.ipynb",
   "provenance": [],
   "version": "0.3.2"
  },
  "kernelspec": {
   "display_name": "Python 3",
   "language": "python",
   "name": "python3"
  },
  "language_info": {
   "codemirror_mode": {
    "name": "ipython",
    "version": 3
   },
   "file_extension": ".py",
   "mimetype": "text/x-python",
   "name": "python",
   "nbconvert_exporter": "python",
   "pygments_lexer": "ipython3",
   "version": "3.7.3"
  }
 },
 "nbformat": 4,
 "nbformat_minor": 1
}
